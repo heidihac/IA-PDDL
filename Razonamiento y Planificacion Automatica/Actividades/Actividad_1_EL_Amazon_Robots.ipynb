{
 "cells": [
  {
   "cell_type": "markdown",
   "metadata": {
    "id": "OZPZKqwCPRK_"
   },
   "source": [
    "# Actividad :  Resolución de problema mediante búsqueda heurística\n",
    "\n",
    "\n",
    "\n",
    "## Objetivos de la actividad\n",
    "\n",
    "Con esta actividad vas a conseguir implementar la estrategia de búsqueda heurística A* para la resolución de un problema real.\n",
    "\n",
    "## Descripción de la actividad\n",
    "\n",
    "![texto alternativo](https://drive.google.com/uc?export=view&id=1nku190wKb1Wn8V-d_X8RVoREuKjavF0I)\n",
    "\n",
    "La empresa Amazon desea utilizar un robot para ordenar el inventario de su almacén. \n",
    "\n",
    "Amazon cuenta con 3 inventarios (mesa con suministros para vender) localizados en unas posiciones específicas del almacén. El robot se debe encargar de mover los 3 inventarios a una posición objetivo. \n",
    "\n",
    "El robot puede moverse horizontal y verticalmente, y cargar o descargar un inventario. \n",
    "\n",
    "Un ejemplo del robot, moviendo el inventario, se puede observar en el siguiente vídeo:"
   ]
  },
  {
   "cell_type": "code",
   "execution_count": null,
   "metadata": {
    "id": "2iL6MsnLeRz-"
   },
   "outputs": [],
   "source": [
    "#from IPython.display import YouTubeVideo\n",
    "#YouTubeVideo('UtBa9yVZBJM')"
   ]
  },
  {
   "cell_type": "markdown",
   "metadata": {
    "id": "oc1ZkAuxPIVu"
   },
   "source": [
    "En esta actividad has de utilizar la estrategia de búsqueda heurística A* con el fin de generar un plan que permita al robot de Amazon mover el inventario de un estado inicial a un estado objetivo. "
   ]
  },
  {
   "cell_type": "markdown",
   "metadata": {
    "id": "v43KwY2oS7RB"
   },
   "source": [
    "## Estado inicial\n",
    "\n",
    "El estado inicial del problema lo vamos a representar en una mátriz 4x4 de carácteres de la siguiente manera:\n",
    "\n",
    "\n",
    "![texto alternativo](https://drive.google.com/uc?export=view&id=1Mzml6909YsiwqCB77-xeLYRoVt93uLKg)\t\t\n",
    "\n",
    "Donde, \n",
    "\n",
    "\n",
    "*   R: representa el robot. Inicialmente está ubicado en la posición [2,2]\n",
    "*   \\#: representa una pared. \n",
    "*   M1, M2, e M3: representan los tres inventarios que el robot debe mover. Y se encuentran ubicadas en las posiciones [0,0], [2,0] y [0,3] respectivamente.\n",
    "\n",
    "\n",
    "## Estado Objetivo \n",
    "\n",
    "El robot debe mover los 3 inventarios, M1, M2 y M3, a la siguientes posiciones:\n",
    "\n",
    "\n",
    "![texto alternativo](https://drive.google.com/uc?export=view&id=1rhaD4HXNAHjp9v2algygF38-OVNePBSe)"
   ]
  },
  {
   "cell_type": "markdown",
   "metadata": {
    "id": "TfVdfbfuTVhC"
   },
   "source": [
    "## Tareas a realizar \n",
    "\n",
    "Implementar el algoritmo A* considerando lo siguiente:\n",
    "\n",
    "1.   como función heurística, la Distancia en Manhattan. \n",
    "2.   el coste real (c) de cada acción del robot es 1.\n",
    "3.   el código deberá ejecutarse e indicar la secuencia de acciones a realizar para alcanzar el estado objetivo utilizando una notación sencilla. Por ejemplo: «mover R fila1 columna2» o «mover R fila0 columna2» o «cargar R M1 fila0 columna2».\n",
    "\n",
    "## Documentos a entregar\n",
    "\n",
    "* Memoria en word o jupyter notebook explicando en detalle el desarrollo de la actividad. Se recomienda un limite máximo de 10 páginas sin contar el código fuente. La memoria como mínimo debe contenter:\n",
    "\n",
    " * Portada\n",
    " * Desarrollo de la actividad: análisis, pantallazos de ejecución, pruebas realizadas, plan de acción. \n",
    " * Dificultades encontradas\n",
    " * Referencias bibliografícas con Normas APA\n",
    "\n",
    "* Código fuente desarrollado correctamente documentado.\n",
    "\n",
    "\n",
    "## Consideraciones finales\n",
    "\n",
    "Puede seleccionar el lenguaje de programación que usted desee. \n",
    "\n",
    "Se deberán crear tantas clases o estructuras de datos como sean necesarias para representar el espacio de estados y los nodos de exploración del árbol.\n",
    "\n",
    "El programa desarrollado debe ser un trabajo original del estudiante. Cualquier evidencia de  o trabajos iguales será calificada con una nota de cero (0)."
   ]
  },
  {
   "cell_type": "code",
   "execution_count": null,
   "metadata": {
    "id": "x6ExFwAsUseU"
   },
   "outputs": [],
   "source": [
    "%matplotlib inline\n",
    "\n",
    "import numpy as np\n",
    "import matplotlib\n",
    "matplotlib.use(\"Agg\")\n",
    "import matplotlib.pyplot as plt\n",
    "import matplotlib.animation as animation"
   ]
  },
  {
   "cell_type": "markdown",
   "metadata": {
    "id": "c1t0F1mcXIMm"
   },
   "source": [
    "# Portada\n",
    "\n",
    "\n",
    "---\n",
    "\n",
    "\n",
    "##Planificación y Razonamiento Automático\n",
    "\n",
    "###Jorge Augusto Balsells Orellana\n",
    "\n",
    "###Erick Wilfredo Díaz Saborio\n",
    "\n",
    "---\n",
    "####31 de Enero de 2021\n"
   ]
  },
  {
   "cell_type": "markdown",
   "metadata": {
    "id": "ZvXxD9YD0bYF"
   },
   "source": [
    "# Desarrollo de Actividad\n"
   ]
  },
  {
   "cell_type": "markdown",
   "metadata": {
    "id": "mFr5Y0tNwFJ-"
   },
   "source": []
  },
  {
   "cell_type": "markdown",
   "metadata": {
    "id": "za8qyRVOc9QA"
   },
   "source": [
    "## Definición del Tablero\n",
    "\n",
    "Vamos a definir una matiz de valores numericos con numpy.\n",
    "Ya que los valores de la matriz son numericos se definen 2 diccionarios de python para poder mapear estos valores.\n"
   ]
  },
  {
   "cell_type": "code",
   "execution_count": null,
   "metadata": {
    "id": "3-FHwadkt2i5"
   },
   "outputs": [],
   "source": [
    "num_object_mapping = {\n",
    "    2: 'robot',\n",
    "    3: 'M1',\n",
    "    4: 'M2',\n",
    "    5: 'M3',\n",
    "    1: 'pared',\n",
    "    0: 'espacio'\n",
    "}\n",
    "\n",
    "object_num_mapping = dict(map(reversed, num_object_mapping.items()))"
   ]
  },
  {
   "cell_type": "code",
   "execution_count": null,
   "metadata": {
    "colab": {
     "base_uri": "https://localhost:8080/"
    },
    "id": "MDBHEnzBt2i5",
    "outputId": "3c8a7480-7bbf-4a46-ae14-3c64011d4329"
   },
   "outputs": [
    {
     "data": {
      "text/plain": [
       "{'M1': 3, 'M2': 4, 'M3': 5, 'espacio': 0, 'pared': 1, 'robot': 2}"
      ]
     },
     "execution_count": 16,
     "metadata": {
      "tags": []
     },
     "output_type": "execute_result"
    }
   ],
   "source": [
    "object_num_mapping"
   ]
  },
  {
   "cell_type": "markdown",
   "metadata": {
    "id": "LxMyIEjXt2i6"
   },
   "source": [
    "## Euclidean Distance\n",
    "\n",
    "$d=\\sqrt{(x_1 - x_2)^2 + (y_1-y_2)^2}$"
   ]
  },
  {
   "cell_type": "code",
   "execution_count": null,
   "metadata": {
    "id": "QFR6VL-wt2i6"
   },
   "outputs": [],
   "source": [
    "def euclidean_distance(pos1_x, pos1_y, pos2_x, pos2_y):\n",
    "     return np.sqrt(pow(abs(pos2_x-pos1_x),2)+pow(abs(pos2_y-pos1_y),2))"
   ]
  },
  {
   "cell_type": "markdown",
   "metadata": {
    "id": "-OmK9kkEoui1"
   },
   "source": [
    "## Heuristica f()\n",
    "\n",
    "Función de estimación de la distancia entre la posición actual y el nodo final.\n",
    "Esta función recibe como parámetros una matriz, la posición actual y la destino.\n",
    "\n",
    "Calcula los valores de $g$, $f$ y $h$ de las celdas vecinas a la posición actual, únicamente si es valido moverse a ellas, es decir si la celda vecina esta vacía o es la posición final.\n",
    "\n",
    "La función retorna una matriz, cada elemento de la matriz es un vector con los valores de $g$, $f$, $h$, $[x, y]$ si podemos movernos a la celda en caso contrario retorna un arreglo vacío."
   ]
  },
  {
   "cell_type": "code",
   "execution_count": null,
   "metadata": {
    "id": "6P5hGrP2t2i6"
   },
   "outputs": [],
   "source": [
    "def fgh_values(matrix, target, position):\n",
    "\n",
    "    #Guarda la posicion en coordenadas (x,y) del lugar donde esta ubicado\n",
    "    #en position y de la carga en target\n",
    "    [pos_y, pos_x] = position\n",
    "    [tar_y, tar_x] = target\n",
    "\n",
    "    #se determinan las dimensiones de filas y columnas del territorio o matriz\n",
    "    mat_x = np.size(initial_state,0)\n",
    "    mat_y = np.size(initial_state,1)\n",
    "\n",
    "    #se crea una matriz de 3x3, que contendra los valores de f,g y h de todo el\n",
    "    #perimetro del valor ingresado.\n",
    "    f_mat = [[0,0,0],[0,0,0],[0,0,0]]\n",
    "\n",
    "    #se operan los 9 valores a ingresar en la matriz f_mat\n",
    "    for x in range(pos_x-1,pos_x+2):\n",
    "        for y in range(pos_y-1,pos_y+2):\n",
    "\n",
    "            #se calculan los valores solamente si el punto esta dentro de las\n",
    "            #dimensiones de la matriz, o es un espacio, o son las coordenadas\n",
    "            #de la carga a la que se dirige el robot\n",
    "            if(x>=0 and x<=mat_x-1 and y>=0 and y<=mat_y-1 \n",
    "               and ((matrix[y,x]==object_num_mapping['espacio']) or ((x,y) == (tar_x, tar_y))) ):\n",
    "\n",
    "                #Calculo de variables\n",
    "                g = euclidean_distance(pos_x, pos_y, x, y)\n",
    "                h = abs(tar_y-y) + abs(tar_x-x)\n",
    "                f = g + h\n",
    "\n",
    "                #Se crea un solo vector que se guarda en cada posicion de la matriz f_mat\n",
    "                f_mat[x-pos_x+1][y-pos_y+1] = [round(f,1), round(g,1), round(h,1), [x,y]]\n",
    "            else:\n",
    "\n",
    "                #Si no se cumple la sentencia, guarda un vector vacio en esa posicion\n",
    "                f_mat[x-pos_x+1][y-pos_y+1] = []\n",
    "    return f_mat"
   ]
  },
  {
   "cell_type": "markdown",
   "metadata": {
    "id": "zOwnqFTyp-bM"
   },
   "source": [
    "## Implementacion de Nodo\n",
    "La mejor forma de controlar las casillas o nodos, es creando un objeto donde se pueda almacenar cual es el nodo padre y los valores de $g$, $h$ y $f$."
   ]
  },
  {
   "cell_type": "code",
   "execution_count": null,
   "metadata": {
    "id": "i8sWXqCypFVX"
   },
   "outputs": [],
   "source": [
    "class Node():\n",
    "    def __init__(self, parent=None, position=None, g=0, h=0, f=0):\n",
    "        self.parent = parent\n",
    "        self.position = position #tupla (fila,columna) \n",
    "        \n",
    "        self.g = g\n",
    "        self.h = h\n",
    "        self.f = f\n",
    "        \n",
    "    def __eq__(self, other):\n",
    "        return self,"
   ]
  },
  {
   "cell_type": "markdown",
   "metadata": {
    "id": "RsYvflH7t2i7"
   },
   "source": [
    "## Implementación Inventario\n",
    "En esta clase almacenamos la información basica de los inventarios, el nombre, la posición inicial y destino."
   ]
  },
  {
   "cell_type": "code",
   "execution_count": null,
   "metadata": {
    "id": "H0CYC7q2t2i8"
   },
   "outputs": [],
   "source": [
    "class Inventario():\n",
    "    def __init__(self, nombre, pos_init, pos_dest, val):\n",
    "        self.nombre = nombre\n",
    "        self.pos_init = pos_init\n",
    "        self.pos_dest = pos_dest\n",
    "        self.val = val"
   ]
  },
  {
   "cell_type": "markdown",
   "metadata": {
    "id": "bXnEPCOFq0E1",
    "outputId": "f7692d60-cd20-40d0-e4ab-e09342377b96"
   },
   "source": [
    "\n",
    "## Algoritmo A*\n",
    "A continuación, se explica de forma detallada la lógica del algoritmo.\n",
    "\n",
    "En esta parte del código obtenemos el primer nodo de la lista abierta, luego en un ciclo buscamos en la lista abierta el nodo con menor valor $f$, y se define este nodo como el nodo actual.\n",
    "Y por último lo eliminamos de la lista abierta y lo movemos a la lista cerrada.\n",
    "```\n",
    "# Obteniendo el nodo actual\n",
    "current_node = open_list[0]\n",
    "current_index = 0\n",
    "\n",
    "#Encontrar el valor de f menor en la lista abierta\n",
    "for index, item in enumerate(open_list):\n",
    "    if item.f < current_node.f:\n",
    "        current_node = item\n",
    "        current_index = index\n",
    "\n",
    "# Sacamos el nodo con menor f de la lista abierta \n",
    "# y lo agregamos a la cerrada\n",
    "open_list.pop(current_index)\n",
    "closed_list.append(current_node)\n",
    "```\n",
    "\n",
    "\n",
    "Se valida si la posición actual es la posición final, si esa condición se cumple tomamos el nodo actual y en un ciclo $while$ obtenemos el padre del ciclo hasta que retorne $Null$, indicando que se llego al nodo inicial.\n",
    "Cada uno de los padres se guarda en una lista y se invierte en el $return$ para obtener la lista de nodos ordenada, esta lista indica el camino del nodo inicial a la posición final.\n",
    "```      \n",
    "# Validar si es la posicion final\n",
    "if current_node.position == end_node.position:\n",
    "    path = []\n",
    "    nodo = current_node\n",
    "    # Recorremos cada nodo padre para obtener la ruta\n",
    "    while nodo is not None:\n",
    "        path.append(nodo)\n",
    "        nodo = nodo.parent\n",
    "        \n",
    "    return path[::-1] # Retornamos la ruta\n",
    "```\n",
    "\n",
    "Este es el paso final antes de repetir la iteración, utilizamos la función **fgh_values**, enviándole como parámetros el tablero actual, la posición actual y el destino, la función nos retorna la matriz con las celdas vecinas a las que es posible moverse con los valores (f,g,h).\n",
    "\n",
    "```\n",
    "# Generar los hijos\n",
    "values_matrix = fgh_values(board, target=end, position=current_node.position)\n",
    "```\n",
    "\n",
    "\n",
    "Con los valores de las celdas cercanas vamos a seleccionar las celdas validas que pueden ser **hijos**, para esta validación primero buscamos que no existan en la lista abierta, si existe en la lista abierta validamos si el valor de $g$ actual es menor al que tiene el nodo en la lista abierta, si mejora entonces actualizamos el nodo en la lista abierta, cambiamos su nodo padre al nodo actual, y actualizamos sus valores de $f$ y $g$, el valor $h$ se mantiene igual ya que es la distancia al objetivo.\n",
    "\n",
    "```\n",
    "children = []\n",
    "for row in values_matrix:\n",
    "    for cell in row:\n",
    "        if len(cell) > 0:\n",
    "            x = cell[3][0] #Columna\n",
    "            y = cell[3][1] #Fila\n",
    "            add_flag = True\n",
    "            new_g = cell[1] + current_node.g\n",
    "            new_f = new_g + cell[2]\n",
    "            \n",
    "            # Comprobando que no este en lista abierta\n",
    "            for node in open_list:\n",
    "                if node.position == (y,x):\n",
    "                    add_flag = False\n",
    "                    if node.g > new_g:\n",
    "                        node.parent = current_node\n",
    "                        node.g = new_g\n",
    "                        node.f = new_f\n",
    "                    \n",
    "                    \n",
    "            # Comprobando que no este en lista cerrada\n",
    "            for node in closed_list:\n",
    "                if node.position == (y,x):\n",
    "                    add_flag = False\n",
    "````\n",
    "\n",
    "Creamos los objetos nodos hijos y se agregan a la lista abierta.\n",
    "```                    \n",
    "            # Creamos un nuevo nodo\n",
    "            new_node = Node(parent=current_node, position=(y,x), g=new_g, h=cell[2], f=new_f)\n",
    "            if add_flag:\n",
    "                children.append(new_node)\n",
    "\n",
    "open_list.extend(children)\n",
    "```"
   ]
  },
  {
   "cell_type": "markdown",
   "metadata": {
    "id": "Rf39u30wgKDz"
   },
   "source": [
    "### Implementacion del Algoritmo"
   ]
  },
  {
   "cell_type": "code",
   "execution_count": null,
   "metadata": {
    "id": "jP1IVhFeq2pM"
   },
   "outputs": [],
   "source": [
    "def astar(board, start, end):\n",
    "    # Creando el nodo inicial y final\n",
    "    start_node = Node(position=start)\n",
    "    end_node = Node(position=end)\n",
    "    \n",
    "    # Inicializando lista cerrada y lista abierta\n",
    "    open_list = []\n",
    "    closed_list = []\n",
    "    \n",
    "    #Agregamos a la lista abierta el nodo inicial\n",
    "    open_list.append(start_node)\n",
    "    \n",
    "    while len(open_list) > 0:\n",
    "        \n",
    "        # Obteniendo el nodo actual\n",
    "        current_node = open_list[0]\n",
    "        current_index = 0\n",
    "        \n",
    "        #Encontrar el valor de f menor en la lista abierta\n",
    "        for index, item in enumerate(open_list):\n",
    "            if item.f < current_node.f:\n",
    "                current_node = item\n",
    "                current_index = index\n",
    "        \n",
    "        # Sacamos el nodo con menor f de la lista abierta \n",
    "        # y lo agregamos a la cerrada\n",
    "        open_list.pop(current_index)\n",
    "        closed_list.append(current_node)\n",
    "\n",
    "        \n",
    "        # Validar si es la posicion final\n",
    "        if current_node.position == end_node.position:\n",
    "            path = []\n",
    "            nodo = current_node\n",
    "            # Recorremos cada nodo padre para obtener la ruta\n",
    "            while nodo is not None:\n",
    "                path.append(nodo)\n",
    "                nodo = nodo.parent\n",
    "                \n",
    "            return path[::-1] # Retornamos la ruta\n",
    "        \n",
    "        \n",
    "        # Generar los hijos\n",
    "        values_matrix = fgh_values(board, target=end, position=current_node.position)\n",
    "\n",
    "        children = []\n",
    "        for row in values_matrix:\n",
    "            for cell in row:\n",
    "                if len(cell) > 0:\n",
    "                    x = cell[3][0] #Columna\n",
    "                    y = cell[3][1] #Fila\n",
    "                    add_flag = True\n",
    "                    new_g = cell[1] + current_node.g\n",
    "                    new_f = new_g + cell[2]\n",
    "                    \n",
    "                    # Comprobando que no este en lista abierta\n",
    "                    for node in open_list:\n",
    "                        if node.position == (y,x):\n",
    "                            add_flag = False\n",
    "                            # Si el valor de g actual es menor cambiamos el \n",
    "                            # nodo padre y sus valores de g,f\n",
    "                            if node.g > new_g:\n",
    "                                node.parent = current_node\n",
    "                                node.g = new_g\n",
    "                                node.f = new_f\n",
    "                            \n",
    "                            \n",
    "                    # Comprobando que no este en lista cerrada\n",
    "                    for node in closed_list:\n",
    "                        if node.position == (y,x):\n",
    "                            add_flag = False\n",
    "                            \n",
    "                    # Creamos un nuevo nodo\n",
    "                    new_node = Node(parent=current_node, position=(y,x), g=new_g, h=cell[2], f=new_f)\n",
    "                    if add_flag:\n",
    "                        children.append(new_node)\n",
    "        \n",
    "        # Agregamos a la lista abierta los nuevos nodos hijos\n",
    "        open_list.extend(children)      \n",
    "                    \n"
   ]
  },
  {
   "cell_type": "markdown",
   "metadata": {
    "id": "PrSe2zhPt2jA"
   },
   "source": [
    "#### Funciones para graficar"
   ]
  },
  {
   "cell_type": "code",
   "execution_count": null,
   "metadata": {
    "colab": {
     "base_uri": "https://localhost:8080/",
     "height": 35
    },
    "id": "pDrKglkPt2jC",
    "outputId": "f51d0c14-3e1f-45c0-83fb-ee532957006e"
   },
   "outputs": [
    {
     "data": {
      "text/plain": [
       "<Figure size 432x288 with 0 Axes>"
      ]
     },
     "metadata": {
      "tags": []
     },
     "output_type": "display_data"
    }
   ],
   "source": [
    "fig = plt.figure()\n",
    "ims = []\n",
    "\n",
    "def mapping(option='',matrix=[], nombre=''):\n",
    "    global ims\n",
    "\n",
    "    if(option==''):\n",
    "        pass\n",
    "    elif(option=='add'):\n",
    "        im = plt.imshow(matrix, cmap = plt.cm.gray)\n",
    "        ims.append([im])\n",
    "    elif(option=='plot'):\n",
    "        ani = animation.ArtistAnimation(fig, ims, interval=500, blit=True,repeat_delay=100)\n",
    "        ani.save(nombre, writer='imagemagick', fps=4)\n",
    "\n",
    "        \n",
    "def update_matrix(current_matrix, curr_pos,new_pos, obj_val, begin_load_route=False):\n",
    "    #Actualizar Tablero\n",
    "    if (begin_load_route is False):\n",
    "        current_matrix[curr_pos] = object_num_mapping['espacio']\n",
    "    current_matrix[new_pos] = obj_val\n",
    "    return current_matrix"
   ]
  },
  {
   "cell_type": "markdown",
   "metadata": {
    "id": "WNZ4SnnSt2jD"
   },
   "source": [
    "## Ejecutando Algoritmo A*\n"
   ]
  },
  {
   "cell_type": "markdown",
   "metadata": {
    "id": "j2wfg36fdLLl"
   },
   "source": [
    "### Inicializando el tablero"
   ]
  },
  {
   "cell_type": "code",
   "execution_count": null,
   "metadata": {
    "id": "y-FuGaxn0gIB"
   },
   "outputs": [],
   "source": [
    "#Matriz de estado inicial con \n",
    "initial_state = np.matrix([[6, 1, 0, 5],\n",
    "                           [0, 1, 0, 0],\n",
    "                           [4, 0, 2, 0],\n",
    "                           [0, 0, 0, 0]])"
   ]
  },
  {
   "cell_type": "markdown",
   "metadata": {
    "id": "5yQN-ijEOwbO"
   },
   "source": [
    "### Generacion de Inventarios\n",
    "\n",
    "Generamos 3 objetos de tipo inventarios con le enviamos como parametro la posicion inicial y la posicion final."
   ]
  },
  {
   "cell_type": "code",
   "execution_count": null,
   "metadata": {
    "id": "53q_xO0ht2jD"
   },
   "outputs": [],
   "source": [
    "inventarios = []\n",
    "\n",
    "# Inventario M3\n",
    "new_invent = Inventario('M3', pos_init=(0,3), pos_dest=(3,1), val=5)\n",
    "inventarios.append(new_invent)\n",
    "\n",
    "# Inventario M2\n",
    "new_invent = Inventario('M2', pos_init=(2,0), pos_dest=(3,2), val=4)\n",
    "inventarios.append(new_invent)\n",
    "\n",
    "# Inventario M1\n",
    "new_invent = Inventario('M1', pos_init=(0,0), pos_dest=(3,3), val=6)\n",
    "inventarios.append(new_invent)"
   ]
  },
  {
   "cell_type": "markdown",
   "metadata": {
    "id": "Wb_XCzNXVr4l"
   },
   "source": [
    "### Ejecución \n",
    "Se realizo una búsqueda por sub-objetivos, tenemos un arreglo de inventarios, utilizamos un ciclo $for$ para recorrer el arreglo de inventarios.\n",
    "Con el inventario actual se realizan los siguientes pasos:\n",
    "1.\t Ejecutamos el algoritmo A* para que el robot pueda llegar se su posición actual al inventario, se imprime la ruta. \n",
    "2.\tEjecutamos el algoritmo A* de nuevo para que el robot lleve el inventario a su posición destino y se imprime la ruta.\n",
    " \n"
   ]
  },
  {
   "cell_type": "code",
   "execution_count": null,
   "metadata": {
    "colab": {
     "base_uri": "https://localhost:8080/"
    },
    "id": "fwZuYMmGrXHM",
    "outputId": "66a6af2c-fc0c-407a-e8d0-02efabef543b"
   },
   "outputs": [
    {
     "name": "stdout",
     "output_type": "stream",
     "text": [
      "==================== Inventario M3 ===========================\n",
      " Robot Posicion actual (2, 2)\n",
      "=> Ruta del robot al inventario M3\n",
      "Mover R fila: 2, columna: 2\n",
      "Mover R fila: 1, columna: 3\n",
      "Mover R fila: 0, columna: 3\n",
      "=> Ruta del inventario M3 a destino (3, 1)\n",
      "Cargar R[M3] fila: 0, columna: 3\n",
      "Cargar R[M3] fila: 1, columna: 2\n",
      "Cargar R[M3] fila: 2, columna: 1\n",
      "Cargar R[M3] fila: 3, columna: 1\n",
      "[[6 1 0 0]\n",
      " [0 1 0 0]\n",
      " [4 0 0 0]\n",
      " [0 2 0 0]]\n",
      "==================== Inventario M2 ===========================\n",
      " Robot Posicion actual (3, 1)\n",
      "=> Ruta del robot al inventario M2\n",
      "Mover R fila: 3, columna: 1\n",
      "Mover R fila: 2, columna: 0\n",
      "=> Ruta del inventario M2 a destino (3, 2)\n",
      "Cargar R[M2] fila: 2, columna: 0\n",
      "Cargar R[M2] fila: 2, columna: 1\n",
      "Cargar R[M2] fila: 3, columna: 2\n",
      "[[6 1 0 0]\n",
      " [0 1 0 0]\n",
      " [0 0 0 0]\n",
      " [0 2 2 0]]\n",
      "==================== Inventario M1 ===========================\n",
      " Robot Posicion actual (3, 2)\n",
      "=> Ruta del robot al inventario M1\n",
      "Mover R fila: 3, columna: 2\n",
      "Mover R fila: 2, columna: 1\n",
      "Mover R fila: 1, columna: 0\n",
      "Mover R fila: 0, columna: 0\n",
      "=> Ruta del inventario M1 a destino (3, 3)\n",
      "Cargar R[M1] fila: 0, columna: 0\n",
      "Cargar R[M1] fila: 1, columna: 0\n",
      "Cargar R[M1] fila: 2, columna: 1\n",
      "Cargar R[M1] fila: 2, columna: 2\n",
      "Cargar R[M1] fila: 3, columna: 3\n",
      "[[0 1 0 0]\n",
      " [0 1 0 0]\n",
      " [0 0 0 0]\n",
      " [0 2 2 2]]\n"
     ]
    }
   ],
   "source": [
    "pos_robot = (2,2)\n",
    "board = initial_state\n",
    "\n",
    "begin_route_after_load = False\n",
    "for inventario in inventarios :\n",
    "    print(f\"==================== Inventario {inventario.nombre} ===========================\")\n",
    "    print(f\" Robot Posicion actual {pos_robot}\")\n",
    "\n",
    "    ## Calcular ruta del robot -> inventario\n",
    "    ## Algoritmo A*\n",
    "    ruta1 = astar(board, pos_robot, inventario.pos_init)\n",
    "    print(f\"=> Ruta del robot al inventario {inventario.nombre}\")\n",
    "    last_pos = pos_robot\n",
    "    \n",
    "    ## Imprimiendo la ruta\n",
    "    for i, nodo in enumerate(ruta1):\n",
    "        if (nodo.position != last_pos):\n",
    "            board = update_matrix(board, last_pos, nodo.position, object_num_mapping['robot'], begin_route_after_load)\n",
    "            begin_route_after_load = False\n",
    "        last_pos = nodo.position\n",
    "        print(f\"Mover R fila: {nodo.position[0]}, columna: {nodo.position[1]}\")\n",
    "\n",
    "        \n",
    "    ## Calcular ruta del estante -> pos. final estante\n",
    "    ## Algoritmo A*\n",
    "    ruta2 = astar(board, inventario.pos_init, inventario.pos_dest)\n",
    "    print(f\"=> Ruta del inventario {inventario.nombre} a destino {inventario.pos_dest}\")\n",
    "    last_pos = inventario.pos_init\n",
    "    \n",
    "    ## Imprimiendo la ruta\n",
    "    for nodo in ruta2:\n",
    "        if (nodo.position != last_pos):\n",
    "            board = update_matrix(board, last_pos, nodo.position, object_num_mapping['robot'])\n",
    "        last_pos = nodo.position\n",
    "        print(f\"Cargar R[{inventario.nombre}] fila: {nodo.position[0]}, columna: {nodo.position[1]}\")\n",
    "  \n",
    "\n",
    "    print(board)\n",
    "    begin_route_after_load = True\n",
    "    pos_robot = inventario.pos_dest"
   ]
  },
  {
   "cell_type": "markdown",
   "metadata": {
    "id": "e4Br4atjQYMC"
   },
   "source": [
    "#  Dificultades Encontradas\n",
    "\n",
    "1.   El algoritmo es sencillo de comprender, sin embargo, requiere trabajo trasladarlo a código y que se encuentre bien estructurado.\n",
    "2.   Una dificultad visible en este código, es que se puede llegar a generar una cantidad muy alta de tiempo de ejecución por funciones asintóticas, dado que tiene algunos ciclos anidados en donde el tiempo de ejecución se puede tornar exponencial en casos de matrices muy grandes.\n",
    "3.   El algoritmo A*recorre una cuadrícula posición por posición hasta llegar a su punto final. Si se crea una matriz muy pequeña, el algoritmo puede generar un trazo con una incerteza muy alta en comparación con un terreno cuadriculado. Por otro lado, si se crea una matriz muy grande, se disminuye el error en una posición, pero se aumenta el procesamiento.\n",
    "\n"
   ]
  },
  {
   "cell_type": "markdown",
   "metadata": {
    "id": "heNM_2iQQA3B"
   },
   "source": [
    "# Referencias\n",
    "\n",
    "\n",
    "1.   Roy, B. (2020, February 23). A-Star (A*) Search Algorithm - Towards Data Science. Medium. https://towardsdatascience.com/a-star-a-search-algorithm-eb495fb156bb\n",
    "2.   gammafp. (2017, July 27). Pathfinding A* (A estrella) - Tutorial completo en español [Video]. YouTube. https://www.youtube.com/watch?v=X-5JMScsZ14&t=1363s\n",
    "\n"
   ]
  },
  {
   "cell_type": "code",
   "execution_count": null,
   "metadata": {
    "id": "gvn1_N-uRK7-"
   },
   "outputs": [],
   "source": []
  }
 ],
 "metadata": {
  "colab": {
   "collapsed_sections": [],
   "name": "Actividad_1_EL_Amazon_Robots.ipynb",
   "provenance": [],
   "toc_visible": true
  },
  "kernelspec": {
   "display_name": "Python 3",
   "language": "python",
   "name": "python3"
  },
  "language_info": {
   "codemirror_mode": {
    "name": "ipython",
    "version": 3
   },
   "file_extension": ".py",
   "mimetype": "text/x-python",
   "name": "python",
   "nbconvert_exporter": "python",
   "pygments_lexer": "ipython3",
   "version": "3.8.6"
  }
 },
 "nbformat": 4,
 "nbformat_minor": 1
}
